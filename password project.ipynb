{
 "cells": [
  {
   "cell_type": "code",
   "execution_count": 1,
   "id": "e78053f1-aad5-41af-a784-608c07bfd6df",
   "metadata": {},
   "outputs": [],
   "source": [
    "import re             # Regular expressions are a powerful language for matching text patterns"
   ]
  },
  {
   "cell_type": "code",
   "execution_count": null,
   "id": "805da469-ec78-4f3e-91e8-e58a57c2a2ba",
   "metadata": {},
   "outputs": [],
   "source": [
    "def validator(password):                  # def - keyword ; validator - fucntion name ; password - parameter or argument\n",
    "    digit = '[0-9]'\n",
    "    upper = '[A-Z]'\n",
    "    lower = '[a-z]'\n",
    "    symbol ='[$@#!]'\n",
    "\n",
    "    length = len(password)\n",
    "    points=6\n",
    "\n",
    "    if length < 6:                                          \n",
    "        print(\"password length must be greater than 6\")\n",
    "        points=points-1\n",
    "    if not re.search(digit, password):                             # re.search - is using the to serach the given string and \n",
    "                                                                   # check the value is match or not\n",
    "            print(\"password must contain a number 0-9\")\n",
    "            points=points-1\n",
    "    if not re.search(upper, password):\n",
    "            print(\"password must contain a upper-case letter A-Z\")\n",
    "            points=points-1\n",
    "    if not re.search(lower, password):\n",
    "            print(\"password must contain a lower-case letter a-z\")\n",
    "            points=points-1\n",
    "    if not re.search(symbol, password):\n",
    "            print(\"password must contain a special symbol ($ @ # !)\")\n",
    "            points=points-1\n",
    "    if points >= 6:\n",
    "        print(\"Strong Password\")\n",
    "        \n",
    "password = input(\"Password : \")\n",
    "validator(password)"
   ]
  },
  {
   "cell_type": "code",
   "execution_count": null,
   "id": "ca13f28c",
   "metadata": {},
   "outputs": [],
   "source": []
  }
 ],
 "metadata": {
  "kernelspec": {
   "display_name": "Python 3 (ipykernel)",
   "language": "python",
   "name": "python3"
  },
  "language_info": {
   "codemirror_mode": {
    "name": "ipython",
    "version": 3
   },
   "file_extension": ".py",
   "mimetype": "text/x-python",
   "name": "python",
   "nbconvert_exporter": "python",
   "pygments_lexer": "ipython3",
   "version": "3.11.5"
  }
 },
 "nbformat": 4,
 "nbformat_minor": 5
}
